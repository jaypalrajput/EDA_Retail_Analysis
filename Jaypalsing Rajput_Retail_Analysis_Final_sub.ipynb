{
 "cells": [
  {
   "cell_type": "markdown",
   "metadata": {
    "id": "cyLrNHHtRxOG"
   },
   "source": [
    "Introduction: In this project I want to perform Retail Data Analysis based on given dataset by odin school for analysis.\n",
    "This is based on Product and sales information and can be used to give visuals for distribution of sales among different cities in different months and sales change over time frame. It is also analyse the visuals for top most city by sales and the pair of products that are most sold together.\n",
    " \n",
    "**Dataset Description:**\n",
    "Instances: 3.73 Lakh\n",
    "\n",
    "Features: 6 columns\n",
    "\n",
    "Numerical: 4 columns\n",
    "\n",
    "Categorical: 2 columns\n",
    "\n",
    "**Attribute Information:**\n",
    "\n",
    "•\t**Order ID:** Order identification number for each product\n",
    "\n",
    "•\t**Product:** Product name\n",
    "\n",
    "•\t**Quantity Ordered:** Amount of items\n",
    "\n",
    "•\t**Price Each:** Price of each product per item in dollars\n",
    "\n",
    "•\t**Order Date:** Date of purchase\n",
    "\n",
    "•\t**Purchase Address:** Address of purchase order\n"
   ]
  },
  {
   "cell_type": "code",
   "execution_count": 1,
   "metadata": {
    "id": "LycQzQZCRcpU"
   },
   "outputs": [],
   "source": [
    "import numpy as np # This library imported for working with linear algebra numpy functionalities used for EDA\n",
    "import pandas as pd # This library imported for data processing, read CSV file I/O (e.g. pd.read_csv) and working with dataframes.\n",
    "import matplotlib.pyplot as plt # This library imported for working visualization and plotting graphs\n",
    "import missingno as msno #To working with missimg values and its pattern\n",
    "import plotly.express as px # To working plotly figures and graphs\n",
    "import seaborn as sns # This library imported for working visualization and plottong graphs\n"
   ]
  },
  {
   "cell_type": "markdown",
   "metadata": {
    "id": "qUkIyr9_jHfa"
   },
   "source": [
    "#  1.\tLoad the dataset into pandas and provide a summary of columns in the loaded dataset without any modification."
   ]
  },
  {
   "cell_type": "code",
   "execution_count": 2,
   "metadata": {
    "id": "s_l1EX58cvWI"
   },
   "outputs": [],
   "source": [
    "retaildf=pd.concat(pd.read_excel('F:/EDA/EDA_Proj/all_data_copy.xlsx', sheet_name=None), ignore_index=True)\n",
    "#retaildf=pd.read_csv(\"/content/all_data_copy.csv\")"
   ]
  },
  {
   "cell_type": "markdown",
   "metadata": {
    "id": "rTozB7fdh4YI"
   },
   "source": [
    "**Look into the Data**\n",
    "\n",
    "Lets see how the dataset look and get some basic information. i.e\n",
    "\n",
    "Data types\n",
    "\n",
    "No of Data (rows and column)\n",
    "\n",
    "Null Data\n",
    "\n",
    "few rows to understand the data\n",
    "\n",
    "\n",
    "\n"
   ]
  },
  {
   "cell_type": "code",
   "execution_count": 3,
   "metadata": {
    "colab": {
     "base_uri": "https://localhost:8080/"
    },
    "id": "8ih6VzgRdVmA",
    "outputId": "7c81f946-18d0-4bd4-9d31-03c752d5e1b5"
   },
   "outputs": [
    {
     "data": {
      "text/plain": [
       "(373700, 6)"
      ]
     },
     "execution_count": 3,
     "metadata": {},
     "output_type": "execute_result"
    }
   ],
   "source": [
    "retailorig=retaildf.copy(deep=True) # To copy Original dataset before applying analysis prerequiestics\n",
    "retaildf.shape #To check shape and no of observation which matched to described in recived dataset"
   ]
  },
  {
   "cell_type": "code",
   "execution_count": 4,
   "metadata": {
    "colab": {
     "base_uri": "https://localhost:8080/"
    },
    "id": "o3si7iDxgN9G",
    "outputId": "dc801cd4-83e5-41ad-9cfe-e79d4646023a"
   },
   "outputs": [
    {
     "name": "stdout",
     "output_type": "stream",
     "text": [
      "<class 'pandas.core.frame.DataFrame'>\n",
      "RangeIndex: 373700 entries, 0 to 373699\n",
      "Data columns (total 6 columns):\n",
      " #   Column            Non-Null Count   Dtype \n",
      "---  ------            --------------   ----- \n",
      " 0   Order ID          372610 non-null  object\n",
      " 1   Product           372610 non-null  object\n",
      " 2   Quantity Ordered  372610 non-null  object\n",
      " 3   Price Each        372610 non-null  object\n",
      " 4   Order Date        372610 non-null  object\n",
      " 5   Purchase Address  372610 non-null  object\n",
      "dtypes: object(6)\n",
      "memory usage: 17.1+ MB\n",
      "None\n"
     ]
    }
   ],
   "source": [
    "print(retaildf.info())\n"
   ]
  },
  {
   "cell_type": "markdown",
   "metadata": {
    "id": "aQvVdwtLljBH"
   },
   "source": [
    "1.The info() function is used to print a concise summary of a retaildf DataFrame. This method prints information about a DataFrame including the index dtype and column dtypes, non-null values and memory usage. in diabets total 6 columns and 373700 observations are available. Datatypes of all columns displayed as Object.2. Dataset not include any null values. Memory usage typicalyy 17.1+ mb.\n",
    "\n",
    "After checking record in head() and tail() methods its need to change name and datatypes of columns."
   ]
  },
  {
   "cell_type": "code",
   "execution_count": 5,
   "metadata": {
    "colab": {
     "base_uri": "https://localhost:8080/",
     "height": 250
    },
    "id": "3RNIyWYfi0rZ",
    "outputId": "589ca7a6-273b-4b3e-e245-136e8ca1aa71"
   },
   "outputs": [
    {
     "data": {
      "text/html": [
       "<div>\n",
       "<style scoped>\n",
       "    .dataframe tbody tr th:only-of-type {\n",
       "        vertical-align: middle;\n",
       "    }\n",
       "\n",
       "    .dataframe tbody tr th {\n",
       "        vertical-align: top;\n",
       "    }\n",
       "\n",
       "    .dataframe thead th {\n",
       "        text-align: right;\n",
       "    }\n",
       "</style>\n",
       "<table border=\"1\" class=\"dataframe\">\n",
       "  <thead>\n",
       "    <tr style=\"text-align: right;\">\n",
       "      <th></th>\n",
       "      <th>Order ID</th>\n",
       "      <th>Product</th>\n",
       "      <th>Quantity Ordered</th>\n",
       "      <th>Price Each</th>\n",
       "      <th>Order Date</th>\n",
       "      <th>Purchase Address</th>\n",
       "    </tr>\n",
       "  </thead>\n",
       "  <tbody>\n",
       "    <tr>\n",
       "      <th>0</th>\n",
       "      <td>141234</td>\n",
       "      <td>iPhone</td>\n",
       "      <td>1</td>\n",
       "      <td>700</td>\n",
       "      <td>2019-01-22 21:25:00</td>\n",
       "      <td>944 Walnut St, Boston, MA 02215</td>\n",
       "    </tr>\n",
       "    <tr>\n",
       "      <th>1</th>\n",
       "      <td>141235</td>\n",
       "      <td>Lightning Charging Cable</td>\n",
       "      <td>1</td>\n",
       "      <td>14.95</td>\n",
       "      <td>2019-01-28 14:15:00</td>\n",
       "      <td>185 Maple St, Portland, OR 97035</td>\n",
       "    </tr>\n",
       "    <tr>\n",
       "      <th>2</th>\n",
       "      <td>141236</td>\n",
       "      <td>Wired Headphones</td>\n",
       "      <td>2</td>\n",
       "      <td>11.99</td>\n",
       "      <td>2019-01-17 13:33:00</td>\n",
       "      <td>538 Adams St, San Francisco, CA 94016</td>\n",
       "    </tr>\n",
       "    <tr>\n",
       "      <th>3</th>\n",
       "      <td>141237</td>\n",
       "      <td>27in FHD Monitor</td>\n",
       "      <td>1</td>\n",
       "      <td>149.99</td>\n",
       "      <td>2019-01-05 20:33:00</td>\n",
       "      <td>738 10th St, Los Angeles, CA 90001</td>\n",
       "    </tr>\n",
       "    <tr>\n",
       "      <th>4</th>\n",
       "      <td>141238</td>\n",
       "      <td>Wired Headphones</td>\n",
       "      <td>1</td>\n",
       "      <td>11.99</td>\n",
       "      <td>2019-01-25 11:59:00</td>\n",
       "      <td>387 10th St, Austin, TX 73301</td>\n",
       "    </tr>\n",
       "  </tbody>\n",
       "</table>\n",
       "</div>"
      ],
      "text/plain": [
       "  Order ID                   Product Quantity Ordered Price Each  \\\n",
       "0   141234                    iPhone                1        700   \n",
       "1   141235  Lightning Charging Cable                1      14.95   \n",
       "2   141236          Wired Headphones                2      11.99   \n",
       "3   141237          27in FHD Monitor                1     149.99   \n",
       "4   141238          Wired Headphones                1      11.99   \n",
       "\n",
       "            Order Date                       Purchase Address  \n",
       "0  2019-01-22 21:25:00        944 Walnut St, Boston, MA 02215  \n",
       "1  2019-01-28 14:15:00       185 Maple St, Portland, OR 97035  \n",
       "2  2019-01-17 13:33:00  538 Adams St, San Francisco, CA 94016  \n",
       "3  2019-01-05 20:33:00     738 10th St, Los Angeles, CA 90001  \n",
       "4  2019-01-25 11:59:00          387 10th St, Austin, TX 73301  "
      ]
     },
     "execution_count": 5,
     "metadata": {},
     "output_type": "execute_result"
    }
   ],
   "source": [
    "retaildf.head()"
   ]
  },
  {
   "cell_type": "code",
   "execution_count": 6,
   "metadata": {
    "colab": {
     "base_uri": "https://localhost:8080/",
     "height": 354
    },
    "id": "2oDbj28JmuuB",
    "outputId": "a9e8414b-1800-4b77-b77f-812e05a15a39"
   },
   "outputs": [
    {
     "data": {
      "text/html": [
       "<div>\n",
       "<style scoped>\n",
       "    .dataframe tbody tr th:only-of-type {\n",
       "        vertical-align: middle;\n",
       "    }\n",
       "\n",
       "    .dataframe tbody tr th {\n",
       "        vertical-align: top;\n",
       "    }\n",
       "\n",
       "    .dataframe thead th {\n",
       "        text-align: right;\n",
       "    }\n",
       "</style>\n",
       "<table border=\"1\" class=\"dataframe\">\n",
       "  <thead>\n",
       "    <tr style=\"text-align: right;\">\n",
       "      <th></th>\n",
       "      <th>Order ID</th>\n",
       "      <th>Product</th>\n",
       "      <th>Quantity Ordered</th>\n",
       "      <th>Price Each</th>\n",
       "      <th>Order Date</th>\n",
       "      <th>Purchase Address</th>\n",
       "    </tr>\n",
       "  </thead>\n",
       "  <tbody>\n",
       "    <tr>\n",
       "      <th>373695</th>\n",
       "      <td>259353</td>\n",
       "      <td>AAA Batteries (4-pack)</td>\n",
       "      <td>3</td>\n",
       "      <td>2.99</td>\n",
       "      <td>2019-09-17 20:56:00</td>\n",
       "      <td>840 Highland St, Los Angeles, CA 90001</td>\n",
       "    </tr>\n",
       "    <tr>\n",
       "      <th>373696</th>\n",
       "      <td>259354</td>\n",
       "      <td>iPhone</td>\n",
       "      <td>1</td>\n",
       "      <td>700</td>\n",
       "      <td>2019-09-01 16:00:00</td>\n",
       "      <td>216 Dogwood St, San Francisco, CA 94016</td>\n",
       "    </tr>\n",
       "    <tr>\n",
       "      <th>373697</th>\n",
       "      <td>259355</td>\n",
       "      <td>iPhone</td>\n",
       "      <td>1</td>\n",
       "      <td>700</td>\n",
       "      <td>2019-09-23 07:39:00</td>\n",
       "      <td>220 12th St, San Francisco, CA 94016</td>\n",
       "    </tr>\n",
       "    <tr>\n",
       "      <th>373698</th>\n",
       "      <td>259356</td>\n",
       "      <td>34in Ultrawide Monitor</td>\n",
       "      <td>1</td>\n",
       "      <td>379.99</td>\n",
       "      <td>2019-09-19 17:30:00</td>\n",
       "      <td>511 Forest St, San Francisco, CA 94016</td>\n",
       "    </tr>\n",
       "    <tr>\n",
       "      <th>373699</th>\n",
       "      <td>259357</td>\n",
       "      <td>USB-C Charging Cable</td>\n",
       "      <td>1</td>\n",
       "      <td>11.95</td>\n",
       "      <td>2019-09-30 00:18:00</td>\n",
       "      <td>250 Meadow St, San Francisco, CA 94016</td>\n",
       "    </tr>\n",
       "  </tbody>\n",
       "</table>\n",
       "</div>"
      ],
      "text/plain": [
       "       Order ID                 Product Quantity Ordered Price Each  \\\n",
       "373695   259353  AAA Batteries (4-pack)                3       2.99   \n",
       "373696   259354                  iPhone                1        700   \n",
       "373697   259355                  iPhone                1        700   \n",
       "373698   259356  34in Ultrawide Monitor                1     379.99   \n",
       "373699   259357    USB-C Charging Cable                1      11.95   \n",
       "\n",
       "                 Order Date                         Purchase Address  \n",
       "373695  2019-09-17 20:56:00   840 Highland St, Los Angeles, CA 90001  \n",
       "373696  2019-09-01 16:00:00  216 Dogwood St, San Francisco, CA 94016  \n",
       "373697  2019-09-23 07:39:00     220 12th St, San Francisco, CA 94016  \n",
       "373698  2019-09-19 17:30:00   511 Forest St, San Francisco, CA 94016  \n",
       "373699  2019-09-30 00:18:00   250 Meadow St, San Francisco, CA 94016  "
      ]
     },
     "execution_count": 6,
     "metadata": {},
     "output_type": "execute_result"
    }
   ],
   "source": [
    "retaildf.tail()"
   ]
  },
  {
   "cell_type": "markdown",
   "metadata": {
    "id": "bDp0pAfEnZOK"
   },
   "source": [
    "**Observations:**\n",
    "\n",
    "Features: 6 columns\n",
    "\n",
    "Numerical: 3 columns[Order_ID,QuantityOrdered,PriceEach)\n",
    "\n",
    "-needs to be rename as order_id,quantity_ordered and unit_price respectively. The order_id is seems to be qualitative nominal\n",
    "\n",
    "Date time:Order Date\tneeds to be rename as order_date\n",
    "\n",
    "Categorical: 2 columns[Product,Purchase Address] needs to be rename as product_name,purchase_address respectively"
   ]
  },
  {
   "cell_type": "markdown",
   "metadata": {
    "id": "__3c-h16sKMV"
   },
   "source": [
    "#2.\tPrepare the data frame for further analysis. Clean it, mould it in any manner you see fit."
   ]
  },
  {
   "cell_type": "code",
   "execution_count": 7,
   "metadata": {
    "colab": {
     "base_uri": "https://localhost:8080/"
    },
    "id": "TSp4oRtIq2PB",
    "outputId": "e133bbd2-8f68-4013-9c82-d293ea7170d5"
   },
   "outputs": [
    {
     "data": {
      "text/plain": [
       "Index(['Order ID', 'Product', 'Quantity Ordered', 'Price Each', 'Order Date',\n",
       "       'Purchase Address'],\n",
       "      dtype='object')"
      ]
     },
     "execution_count": 7,
     "metadata": {},
     "output_type": "execute_result"
    }
   ],
   "source": [
    "retaildf.columns #To displays column headers of dataset"
   ]
  },
  {
   "cell_type": "code",
   "execution_count": 8,
   "metadata": {
    "colab": {
     "base_uri": "https://localhost:8080/"
    },
    "id": "sfmR53_znB6o",
    "outputId": "f586ab8c-f6fa-4749-8bd2-62449c842483"
   },
   "outputs": [
    {
     "name": "stdout",
     "output_type": "stream",
     "text": [
      "\n",
      "After modifying first column:\n",
      " Index(['order_id', 'product_name', 'quantity_ordered', 'unit_price',\n",
      "       'order_date', 'purhase_address'],\n",
      "      dtype='object')\n"
     ]
    }
   ],
   "source": [
    "# Renaming column\n",
    "retaildf.rename(columns = {'Order ID':'order_id','Product':'product_name','Quantity Ordered':'quantity_ordered','Price Each':'unit_price','Order Date':'order_date','Purchase Address':'purhase_address'}, inplace = True)\n",
    "   \n",
    "# After renaming the columns\n",
    "print(\"\\nAfter modifying first column:\\n\",retaildf.columns)"
   ]
  },
  {
   "cell_type": "code",
   "execution_count": 9,
   "metadata": {
    "colab": {
     "base_uri": "https://localhost:8080/"
    },
    "id": "Z8fUp5Z1Sdaz",
    "outputId": "d1d8d3f4-81e3-49f7-f35d-e8e5195389a0"
   },
   "outputs": [
    {
     "data": {
      "text/plain": [
       "array([700, 14.95, 11.99, 149.99, 2.99, 389.99, 11.95, 99.99, 150, 1700,\n",
       "       300, 400, 3.84, 600, 109.99, 379.99, 999.99, nan, 'Price Each'],\n",
       "      dtype=object)"
      ]
     },
     "execution_count": 9,
     "metadata": {},
     "output_type": "execute_result"
    }
   ],
   "source": [
    "#To check unique Values\n",
    "retaildf['unit_price'].unique()"
   ]
  },
  {
   "cell_type": "code",
   "execution_count": 10,
   "metadata": {
    "colab": {
     "base_uri": "https://localhost:8080/"
    },
    "id": "EkYuWnANx8pT",
    "outputId": "1c1700b5-c02c-49d7-8f38-12d19c9ec4de"
   },
   "outputs": [
    {
     "data": {
      "text/plain": [
       "array([datetime.datetime(2019, 1, 22, 21, 25),\n",
       "       datetime.datetime(2019, 1, 28, 14, 15),\n",
       "       datetime.datetime(2019, 1, 17, 13, 33), ...,\n",
       "       datetime.datetime(2019, 12, 1, 12, 1),\n",
       "       datetime.datetime(2019, 12, 9, 6, 43),\n",
       "       datetime.datetime(2019, 12, 3, 10, 39)], dtype=object)"
      ]
     },
     "execution_count": 10,
     "metadata": {},
     "output_type": "execute_result"
    }
   ],
   "source": [
    "retaildf['order_date'].unique()"
   ]
  },
  {
   "cell_type": "code",
   "execution_count": 11,
   "metadata": {
    "colab": {
     "base_uri": "https://localhost:8080/"
    },
    "id": "ackJDJIo02oT",
    "outputId": "82aa3c23-5c5d-4680-ac8b-a10bf9435642"
   },
   "outputs": [
    {
     "data": {
      "text/plain": [
       "array(['iPhone', 'Lightning Charging Cable', 'Wired Headphones',\n",
       "       '27in FHD Monitor', 'AAA Batteries (4-pack)',\n",
       "       '27in 4K Gaming Monitor', 'USB-C Charging Cable',\n",
       "       'Bose SoundSport Headphones', 'Apple Airpods Headphones',\n",
       "       'Macbook Pro Laptop', 'Flatscreen TV', 'Vareebadd Phone',\n",
       "       'AA Batteries (4-pack)', 'Google Phone', '20in Monitor',\n",
       "       '34in Ultrawide Monitor', 'ThinkPad Laptop', 'LG Dryer',\n",
       "       'LG Washing Machine', nan, 'Product'], dtype=object)"
      ]
     },
     "execution_count": 11,
     "metadata": {},
     "output_type": "execute_result"
    }
   ],
   "source": [
    "retaildf['product_name'].unique()"
   ]
  },
  {
   "cell_type": "code",
   "execution_count": 12,
   "metadata": {
    "colab": {
     "base_uri": "https://localhost:8080/"
    },
    "id": "gDWealCwyjfo",
    "outputId": "70ca374d-ce1a-4790-e405-3f37da62a68f"
   },
   "outputs": [
    {
     "data": {
      "text/plain": [
       "order_id            1090\n",
       "product_name        1090\n",
       "quantity_ordered    1090\n",
       "unit_price          1090\n",
       "order_date          1090\n",
       "purhase_address     1090\n",
       "dtype: int64"
      ]
     },
     "execution_count": 12,
     "metadata": {},
     "output_type": "execute_result"
    }
   ],
   "source": [
    "#To check missing values\n",
    "retaildf.isnull().sum()"
   ]
  },
  {
   "cell_type": "code",
   "execution_count": 14,
   "metadata": {
    "id": "QLetv_s-HxYm"
   },
   "outputs": [
    {
     "data": {
      "text/plain": [
       "<AxesSubplot:>"
      ]
     },
     "execution_count": 14,
     "metadata": {},
     "output_type": "execute_result"
    },
    {
     "data": {
      "image/png": "[encoded data removed]",
      "text/plain": [
       "<Figure size 1800x720 with 2 Axes>"
      ]
     },
     "metadata": {
      "needs_background": "light"
     },
     "output_type": "display_data"
    }
   ],
   "source": [
    "# To check pattern of missing values\n",
    "msno.matrix(retaildf)"
   ]
  },
  {
   "cell_type": "markdown",
   "metadata": {
    "id": "-rfIjDteHoEA"
   },
   "source": [
    "**Observations:**\n",
    "\n",
    "After observing missing values using looking into dataset,applying unique() and missingno matrix many values rows in dataset are nan and repeated some duplicate rows. so i need to apply drop_duplicates() and remove nan values."
   ]
  },
  {
   "cell_type": "code",
   "execution_count": 15,
   "metadata": {
    "id": "NahgQjXtHLAY"
   },
   "outputs": [],
   "source": [
    "retaildf.drop_duplicates(keep='first', inplace = True)"
   ]
  },
  {
   "cell_type": "code",
   "execution_count": 16,
   "metadata": {
    "id": "d3IgYMLNHLAZ",
    "outputId": "cb458dd3-4955-4a1b-af64-2c8e2bf71d42"
   },
   "outputs": [
    {
     "data": {
      "text/plain": [
       "order_id            1\n",
       "product_name        1\n",
       "quantity_ordered    1\n",
       "unit_price          1\n",
       "order_date          1\n",
       "purhase_address     1\n",
       "dtype: int64"
      ]
     },
     "execution_count": 16,
     "metadata": {},
     "output_type": "execute_result"
    }
   ],
   "source": [
    "#To check missing values\n",
    "retaildf.isnull().sum()"
   ]
  },
  {
   "cell_type": "code",
   "execution_count": 27,
   "metadata": {
    "id": "-jY_wgEzHLAZ",
    "outputId": "6caa1b7f-697b-4bd8-caa9-50a9dda90d11"
   },
   "outputs": [
    {
     "data": {
      "text/plain": [
       "array([1, 2, 3, 5, 4, 7, 'Quantity Ordered', 6, 9, 8], dtype=object)"
      ]
     },
     "execution_count": 27,
     "metadata": {},
     "output_type": "execute_result"
    }
   ],
   "source": [
    "retaildf['quantity_ordered'].unique()"
   ]
  },
  {
   "cell_type": "code",
   "execution_count": 18,
   "metadata": {
    "id": "WaCzsXMkHLAa"
   },
   "outputs": [],
   "source": [
    "# Drow rows with nan\n",
    "retail=retaildf.dropna() "
   ]
  },
  {
   "cell_type": "code",
   "execution_count": 19,
   "metadata": {
    "id": "WZPxZg1tHLAa",
    "outputId": "f9d791f6-6a62-4d7f-b880-d30c21f719da"
   },
   "outputs": [
    {
     "data": {
      "text/plain": [
       "array([1, 2, 3, 5, 4, 7, 'Quantity Ordered', 6, 9, 8], dtype=object)"
      ]
     },
     "execution_count": 19,
     "metadata": {},
     "output_type": "execute_result"
    }
   ],
   "source": [
    "retail['quantity_ordered'].unique()"
   ]
  },
  {
   "cell_type": "code",
   "execution_count": 28,
   "metadata": {
    "id": "UIyB_hJxHLAa"
   },
   "outputs": [],
   "source": [
    "retaildf.drop(retaildf[retaildf['quantity_ordered'] =='Quantity Ordered'].index, inplace = True)"
   ]
  },
  {
   "cell_type": "code",
   "execution_count": 29,
   "metadata": {
    "id": "lfhgJiBGHLAa",
    "outputId": "e00a6e58-59c5-48a4-f6ab-9432d8f0de36"
   },
   "outputs": [
    {
     "data": {
      "text/plain": [
       "(185686, 6)"
      ]
     },
     "execution_count": 29,
     "metadata": {},
     "output_type": "execute_result"
    }
   ],
   "source": [
    "#Rechecking Shape after data cleaning \n",
    "retail.shape"
   ]
  },
  {
   "cell_type": "code",
   "execution_count": 30,
   "metadata": {
    "id": "dgIqyArvHLAb",
    "outputId": "72e156f9-bf14-4bbd-c1db-fed9d0ea4f75"
   },
   "outputs": [
    {
     "data": {
      "text/plain": [
       "order_id            0\n",
       "product_name        0\n",
       "quantity_ordered    0\n",
       "unit_price          0\n",
       "order_date          0\n",
       "purhase_address     0\n",
       "dtype: int64"
      ]
     },
     "execution_count": 30,
     "metadata": {},
     "output_type": "execute_result"
    }
   ],
   "source": [
    "retaildf.isnull().sum()"
   ]
  },
  {
   "cell_type": "code",
   "execution_count": 31,
   "metadata": {
    "id": "8mXoumkuHLAb"
   },
   "outputs": [],
   "source": [
    "retaildf=retail"
   ]
  },
  {
   "cell_type": "code",
   "execution_count": 32,
   "metadata": {
    "id": "mwLRYnP_s32z"
   },
   "outputs": [],
   "source": [
    "retaildf['order_id'] = retaildf['order_id'].astype('category')\n",
    "retaildf['product_name'] = retaildf['product_name'].astype('category')\n",
    "\n",
    "retaildf['quantity_ordered'] = retaildf['quantity_ordered'].astype(int)\n",
    "retaildf['unit_price'] = retaildf['unit_price'].astype(float)\n"
   ]
  },
  {
   "cell_type": "code",
   "execution_count": 33,
   "metadata": {
    "colab": {
     "base_uri": "https://localhost:8080/"
    },
    "id": "aZhU4FWNr3J-",
    "outputId": "b174a519-1b09-48fb-a6fd-76753e088bc3"
   },
   "outputs": [
    {
     "data": {
      "text/plain": [
       "order_id            0\n",
       "product_name        0\n",
       "quantity_ordered    0\n",
       "unit_price          0\n",
       "order_date          0\n",
       "purhase_address     0\n",
       "dtype: int64"
      ]
     },
     "execution_count": 33,
     "metadata": {},
     "output_type": "execute_result"
    }
   ],
   "source": [
    "#To check missing values\n",
    "retaildf.isnull().sum()"
   ]
  },
  {
   "cell_type": "code",
   "execution_count": 34,
   "metadata": {
    "colab": {
     "base_uri": "https://localhost:8080/"
    },
    "id": "rJOVLs38r0R6",
    "outputId": "e4d854a2-5754-4888-be05-05dee88566d9"
   },
   "outputs": [
    {
     "data": {
      "text/plain": [
       "(185686, 6)"
      ]
     },
     "execution_count": 34,
     "metadata": {},
     "output_type": "execute_result"
    }
   ],
   "source": [
    "retaildf.shape"
   ]
  },
  {
   "cell_type": "code",
   "execution_count": 35,
   "metadata": {
    "colab": {
     "base_uri": "https://localhost:8080/",
     "height": 300
    },
    "id": "yHN3qVT3r_kj",
    "outputId": "81c71bb4-861d-43c0-cd1f-fd51c8224032"
   },
   "outputs": [
    {
     "data": {
      "text/html": [
       "<div>\n",
       "<style scoped>\n",
       "    .dataframe tbody tr th:only-of-type {\n",
       "        vertical-align: middle;\n",
       "    }\n",
       "\n",
       "    .dataframe tbody tr th {\n",
       "        vertical-align: top;\n",
       "    }\n",
       "\n",
       "    .dataframe thead th {\n",
       "        text-align: right;\n",
       "    }\n",
       "</style>\n",
       "<table border=\"1\" class=\"dataframe\">\n",
       "  <thead>\n",
       "    <tr style=\"text-align: right;\">\n",
       "      <th></th>\n",
       "      <th>order_id</th>\n",
       "      <th>product_name</th>\n",
       "      <th>quantity_ordered</th>\n",
       "      <th>unit_price</th>\n",
       "      <th>order_date</th>\n",
       "      <th>purhase_address</th>\n",
       "    </tr>\n",
       "  </thead>\n",
       "  <tbody>\n",
       "    <tr>\n",
       "      <th>count</th>\n",
       "      <td>185686.0</td>\n",
       "      <td>185686</td>\n",
       "      <td>185686.000000</td>\n",
       "      <td>185686.000000</td>\n",
       "      <td>185686</td>\n",
       "      <td>185686</td>\n",
       "    </tr>\n",
       "    <tr>\n",
       "      <th>unique</th>\n",
       "      <td>178437.0</td>\n",
       "      <td>19</td>\n",
       "      <td>NaN</td>\n",
       "      <td>NaN</td>\n",
       "      <td>142395</td>\n",
       "      <td>140787</td>\n",
       "    </tr>\n",
       "    <tr>\n",
       "      <th>top</th>\n",
       "      <td>160873.0</td>\n",
       "      <td>USB-C Charging Cable</td>\n",
       "      <td>NaN</td>\n",
       "      <td>NaN</td>\n",
       "      <td>2019-12-15 20:16:00</td>\n",
       "      <td>193 Forest St, San Francisco, CA 94016</td>\n",
       "    </tr>\n",
       "    <tr>\n",
       "      <th>freq</th>\n",
       "      <td>5.0</td>\n",
       "      <td>21859</td>\n",
       "      <td>NaN</td>\n",
       "      <td>NaN</td>\n",
       "      <td>8</td>\n",
       "      <td>9</td>\n",
       "    </tr>\n",
       "    <tr>\n",
       "      <th>mean</th>\n",
       "      <td>NaN</td>\n",
       "      <td>NaN</td>\n",
       "      <td>1.124544</td>\n",
       "      <td>184.519255</td>\n",
       "      <td>NaN</td>\n",
       "      <td>NaN</td>\n",
       "    </tr>\n",
       "    <tr>\n",
       "      <th>std</th>\n",
       "      <td>NaN</td>\n",
       "      <td>NaN</td>\n",
       "      <td>0.443069</td>\n",
       "      <td>332.843838</td>\n",
       "      <td>NaN</td>\n",
       "      <td>NaN</td>\n",
       "    </tr>\n",
       "    <tr>\n",
       "      <th>min</th>\n",
       "      <td>NaN</td>\n",
       "      <td>NaN</td>\n",
       "      <td>1.000000</td>\n",
       "      <td>2.990000</td>\n",
       "      <td>NaN</td>\n",
       "      <td>NaN</td>\n",
       "    </tr>\n",
       "    <tr>\n",
       "      <th>25%</th>\n",
       "      <td>NaN</td>\n",
       "      <td>NaN</td>\n",
       "      <td>1.000000</td>\n",
       "      <td>11.950000</td>\n",
       "      <td>NaN</td>\n",
       "      <td>NaN</td>\n",
       "    </tr>\n",
       "    <tr>\n",
       "      <th>50%</th>\n",
       "      <td>NaN</td>\n",
       "      <td>NaN</td>\n",
       "      <td>1.000000</td>\n",
       "      <td>14.950000</td>\n",
       "      <td>NaN</td>\n",
       "      <td>NaN</td>\n",
       "    </tr>\n",
       "    <tr>\n",
       "      <th>75%</th>\n",
       "      <td>NaN</td>\n",
       "      <td>NaN</td>\n",
       "      <td>1.000000</td>\n",
       "      <td>150.000000</td>\n",
       "      <td>NaN</td>\n",
       "      <td>NaN</td>\n",
       "    </tr>\n",
       "    <tr>\n",
       "      <th>max</th>\n",
       "      <td>NaN</td>\n",
       "      <td>NaN</td>\n",
       "      <td>9.000000</td>\n",
       "      <td>1700.000000</td>\n",
       "      <td>NaN</td>\n",
       "      <td>NaN</td>\n",
       "    </tr>\n",
       "  </tbody>\n",
       "</table>\n",
       "</div>"
      ],
      "text/plain": [
       "        order_id          product_name  quantity_ordered     unit_price  \\\n",
       "count   185686.0                185686     185686.000000  185686.000000   \n",
       "unique  178437.0                    19               NaN            NaN   \n",
       "top     160873.0  USB-C Charging Cable               NaN            NaN   \n",
       "freq         5.0                 21859               NaN            NaN   \n",
       "mean         NaN                   NaN          1.124544     184.519255   \n",
       "std          NaN                   NaN          0.443069     332.843838   \n",
       "min          NaN                   NaN          1.000000       2.990000   \n",
       "25%          NaN                   NaN          1.000000      11.950000   \n",
       "50%          NaN                   NaN          1.000000      14.950000   \n",
       "75%          NaN                   NaN          1.000000     150.000000   \n",
       "max          NaN                   NaN          9.000000    1700.000000   \n",
       "\n",
       "                 order_date                         purhase_address  \n",
       "count                185686                                  185686  \n",
       "unique               142395                                  140787  \n",
       "top     2019-12-15 20:16:00  193 Forest St, San Francisco, CA 94016  \n",
       "freq                      8                                       9  \n",
       "mean                    NaN                                     NaN  \n",
       "std                     NaN                                     NaN  \n",
       "min                     NaN                                     NaN  \n",
       "25%                     NaN                                     NaN  \n",
       "50%                     NaN                                     NaN  \n",
       "75%                     NaN                                     NaN  \n",
       "max                     NaN                                     NaN  "
      ]
     },
     "execution_count": 35,
     "metadata": {},
     "output_type": "execute_result"
    }
   ],
   "source": [
    "#It used to describe both numerical and categorical columns. \n",
    "\n",
    "retaildf.describe(include='all')"
   ]
  },
  {
   "cell_type": "markdown",
   "metadata": {
    "id": "Cemcp1JqJ5gU"
   },
   "source": [
    "**#Observations**\n",
    "## In order_id many ids seems to be have duplicate  but i keep for futute grouping of products group.quantity_ordered\tand unit_price are numeric and have no null values. The other columns also show variation between total count and unique values. It may be because of repeated order of products ,date and addresses."
   ]
  },
  {
   "cell_type": "code",
   "execution_count": 36,
   "metadata": {
    "id": "D4JBXQvIHLAd",
    "outputId": "1ed07ea8-d8c5-4dff-b37a-c6f9deba5ba8"
   },
   "outputs": [
    {
     "data": {
      "text/html": [
       "<div>\n",
       "<style scoped>\n",
       "    .dataframe tbody tr th:only-of-type {\n",
       "        vertical-align: middle;\n",
       "    }\n",
       "\n",
       "    .dataframe tbody tr th {\n",
       "        vertical-align: top;\n",
       "    }\n",
       "\n",
       "    .dataframe thead th {\n",
       "        text-align: right;\n",
       "    }\n",
       "</style>\n",
       "<table border=\"1\" class=\"dataframe\">\n",
       "  <thead>\n",
       "    <tr style=\"text-align: right;\">\n",
       "      <th></th>\n",
       "      <th>quantity_ordered</th>\n",
       "      <th>unit_price</th>\n",
       "    </tr>\n",
       "  </thead>\n",
       "  <tbody>\n",
       "    <tr>\n",
       "      <th>count</th>\n",
       "      <td>185686.000000</td>\n",
       "      <td>185686.000000</td>\n",
       "    </tr>\n",
       "    <tr>\n",
       "      <th>mean</th>\n",
       "      <td>1.124544</td>\n",
       "      <td>184.519255</td>\n",
       "    </tr>\n",
       "    <tr>\n",
       "      <th>std</th>\n",
       "      <td>0.443069</td>\n",
       "      <td>332.843838</td>\n",
       "    </tr>\n",
       "    <tr>\n",
       "      <th>min</th>\n",
       "      <td>1.000000</td>\n",
       "      <td>2.990000</td>\n",
       "    </tr>\n",
       "    <tr>\n",
       "      <th>25%</th>\n",
       "      <td>1.000000</td>\n",
       "      <td>11.950000</td>\n",
       "    </tr>\n",
       "    <tr>\n",
       "      <th>50%</th>\n",
       "      <td>1.000000</td>\n",
       "      <td>14.950000</td>\n",
       "    </tr>\n",
       "    <tr>\n",
       "      <th>75%</th>\n",
       "      <td>1.000000</td>\n",
       "      <td>150.000000</td>\n",
       "    </tr>\n",
       "    <tr>\n",
       "      <th>max</th>\n",
       "      <td>9.000000</td>\n",
       "      <td>1700.000000</td>\n",
       "    </tr>\n",
       "  </tbody>\n",
       "</table>\n",
       "</div>"
      ],
      "text/plain": [
       "       quantity_ordered     unit_price\n",
       "count     185686.000000  185686.000000\n",
       "mean           1.124544     184.519255\n",
       "std            0.443069     332.843838\n",
       "min            1.000000       2.990000\n",
       "25%            1.000000      11.950000\n",
       "50%            1.000000      14.950000\n",
       "75%            1.000000     150.000000\n",
       "max            9.000000    1700.000000"
      ]
     },
     "execution_count": 36,
     "metadata": {},
     "output_type": "execute_result"
    }
   ],
   "source": [
    "#Describe numerical columns\n",
    "retaildf.describe()"
   ]
  },
  {
   "cell_type": "markdown",
   "metadata": {
    "id": "cAvx3g1NK03r"
   },
   "source": [
    "#Observations\n",
    "In numerical column summary we can see that quantity_ordered and unit_price has equal count i.e.185686 observations. The summary of columns as followes-\n",
    "\n",
    "\n",
    "\n",
    "```\n",
    "quantity_ordered\t             unit_price\n",
    "\n",
    "count\t  185686.000000\t      185686.000000\n",
    "mean      1.124544\t            184.519255\n",
    "std\t      0.443069\t            332.843838\n",
    "min       1.000000\t            2.990000\n",
    "25%       1.000000\t           11.950000\n",
    "50%\t      1.000000\t           14.950000\n",
    "75%\t      1.000000\t           150.000000\n",
    "max       9.000000\t           1700.000000\n",
    "\n",
    "```\n",
    "\n"
   ]
  },
  {
   "cell_type": "markdown",
   "metadata": {
    "id": "PoYJeD2cz8-o"
   },
   "source": [
    "# What is the distribution of sales among different cities in different months?\n",
    "# a.Which City had the highest sales overall?"
   ]
  },
  {
   "cell_type": "code",
   "execution_count": 37,
   "metadata": {
    "colab": {
     "base_uri": "https://localhost:8080/"
    },
    "id": "FFVCGPZGDNHE",
    "outputId": "a9f04388-e2cb-445e-acbe-4f0d97ebc4a5"
   },
   "outputs": [
    {
     "data": {
      "text/plain": [
       "array(['Jan', 'Feb', 'Mar', 'Apr', 'May', 'Jun', 'Jul', 'Aug', 'Sep',\n",
       "       'Oct', 'Nov', 'Dec'], dtype=object)"
      ]
     },
     "execution_count": 37,
     "metadata": {},
     "output_type": "execute_result"
    }
   ],
   "source": [
    "#To retrive datetime parts like month,year and time\n",
    "import datetime as dt\n",
    "#retaildf['year'] = pd.DatetimeIndex(retaildf['order_date']]).year\n",
    "retaildf['month'] = pd.DatetimeIndex(retaildf['order_date']).month\n",
    "retaildf['time'] = pd.DatetimeIndex(retaildf['order_date']).time\n",
    "retaildf['hours'] = pd.DatetimeIndex(retaildf['order_date']).hour\n",
    "#converting month number into string\n",
    "\n",
    "month_labels={1:'Jan',2:'Feb',3:'Mar',4:'Apr',5:'May',6:'Jun',7:'Jul',8:'Aug',9:'Sep',10:'Oct',11:'Nov',12:'Dec'}\n",
    "\n",
    "\n",
    "retaildf[\"month\"]=retaildf[\"month\"].apply(lambda x:month_labels[x])\n",
    "\n",
    "retaildf['month'].unique()"
   ]
  },
  {
   "cell_type": "code",
   "execution_count": 38,
   "metadata": {
    "id": "L348UmDDtdDa"
   },
   "outputs": [],
   "source": [
    "# To create new column based on quantity_ordered\tand unit_price\n",
    "retaildf[\"sales\"]=retaildf[\"quantity_ordered\"]*retaildf[\"unit_price\"]"
   ]
  },
  {
   "cell_type": "code",
   "execution_count": 39,
   "metadata": {
    "colab": {
     "base_uri": "https://localhost:8080/",
     "height": 337
    },
    "id": "7_y5UIxf3zkC",
    "outputId": "ced34e2e-1ba8-4e4d-a277-1a4f098d830b"
   },
   "outputs": [
    {
     "data": {
      "text/html": [
       "<div>\n",
       "<style scoped>\n",
       "    .dataframe tbody tr th:only-of-type {\n",
       "        vertical-align: middle;\n",
       "    }\n",
       "\n",
       "    .dataframe tbody tr th {\n",
       "        vertical-align: top;\n",
       "    }\n",
       "\n",
       "    .dataframe thead th {\n",
       "        text-align: right;\n",
       "    }\n",
       "</style>\n",
       "<table border=\"1\" class=\"dataframe\">\n",
       "  <thead>\n",
       "    <tr style=\"text-align: right;\">\n",
       "      <th></th>\n",
       "      <th>order_id</th>\n",
       "      <th>product_name</th>\n",
       "      <th>quantity_ordered</th>\n",
       "      <th>unit_price</th>\n",
       "      <th>order_date</th>\n",
       "      <th>purhase_address</th>\n",
       "      <th>month</th>\n",
       "      <th>time</th>\n",
       "      <th>hours</th>\n",
       "      <th>sales</th>\n",
       "      <th>city</th>\n",
       "    </tr>\n",
       "  </thead>\n",
       "  <tbody>\n",
       "    <tr>\n",
       "      <th>0</th>\n",
       "      <td>141234</td>\n",
       "      <td>iPhone</td>\n",
       "      <td>1</td>\n",
       "      <td>700.00</td>\n",
       "      <td>2019-01-22 21:25:00</td>\n",
       "      <td>944 Walnut St, Boston, MA 02215</td>\n",
       "      <td>Jan</td>\n",
       "      <td>21:25:00</td>\n",
       "      <td>21</td>\n",
       "      <td>700.00</td>\n",
       "      <td>Boston</td>\n",
       "    </tr>\n",
       "    <tr>\n",
       "      <th>1</th>\n",
       "      <td>141235</td>\n",
       "      <td>Lightning Charging Cable</td>\n",
       "      <td>1</td>\n",
       "      <td>14.95</td>\n",
       "      <td>2019-01-28 14:15:00</td>\n",
       "      <td>185 Maple St, Portland, OR 97035</td>\n",
       "      <td>Jan</td>\n",
       "      <td>14:15:00</td>\n",
       "      <td>14</td>\n",
       "      <td>14.95</td>\n",
       "      <td>Portland</td>\n",
       "    </tr>\n",
       "    <tr>\n",
       "      <th>2</th>\n",
       "      <td>141236</td>\n",
       "      <td>Wired Headphones</td>\n",
       "      <td>2</td>\n",
       "      <td>11.99</td>\n",
       "      <td>2019-01-17 13:33:00</td>\n",
       "      <td>538 Adams St, San Francisco, CA 94016</td>\n",
       "      <td>Jan</td>\n",
       "      <td>13:33:00</td>\n",
       "      <td>13</td>\n",
       "      <td>23.98</td>\n",
       "      <td>San Francisco</td>\n",
       "    </tr>\n",
       "    <tr>\n",
       "      <th>3</th>\n",
       "      <td>141237</td>\n",
       "      <td>27in FHD Monitor</td>\n",
       "      <td>1</td>\n",
       "      <td>149.99</td>\n",
       "      <td>2019-01-05 20:33:00</td>\n",
       "      <td>738 10th St, Los Angeles, CA 90001</td>\n",
       "      <td>Jan</td>\n",
       "      <td>20:33:00</td>\n",
       "      <td>20</td>\n",
       "      <td>149.99</td>\n",
       "      <td>Los Angeles</td>\n",
       "    </tr>\n",
       "    <tr>\n",
       "      <th>4</th>\n",
       "      <td>141238</td>\n",
       "      <td>Wired Headphones</td>\n",
       "      <td>1</td>\n",
       "      <td>11.99</td>\n",
       "      <td>2019-01-25 11:59:00</td>\n",
       "      <td>387 10th St, Austin, TX 73301</td>\n",
       "      <td>Jan</td>\n",
       "      <td>11:59:00</td>\n",
       "      <td>11</td>\n",
       "      <td>11.99</td>\n",
       "      <td>Austin</td>\n",
       "    </tr>\n",
       "  </tbody>\n",
       "</table>\n",
       "</div>"
      ],
      "text/plain": [
       "  order_id              product_name  quantity_ordered  unit_price  \\\n",
       "0   141234                    iPhone                 1      700.00   \n",
       "1   141235  Lightning Charging Cable                 1       14.95   \n",
       "2   141236          Wired Headphones                 2       11.99   \n",
       "3   141237          27in FHD Monitor                 1      149.99   \n",
       "4   141238          Wired Headphones                 1       11.99   \n",
       "\n",
       "            order_date                        purhase_address month      time  \\\n",
       "0  2019-01-22 21:25:00        944 Walnut St, Boston, MA 02215   Jan  21:25:00   \n",
       "1  2019-01-28 14:15:00       185 Maple St, Portland, OR 97035   Jan  14:15:00   \n",
       "2  2019-01-17 13:33:00  538 Adams St, San Francisco, CA 94016   Jan  13:33:00   \n",
       "3  2019-01-05 20:33:00     738 10th St, Los Angeles, CA 90001   Jan  20:33:00   \n",
       "4  2019-01-25 11:59:00          387 10th St, Austin, TX 73301   Jan  11:59:00   \n",
       "\n",
       "   hours   sales            city  \n",
       "0     21  700.00          Boston  \n",
       "1     14   14.95        Portland  \n",
       "2     13   23.98   San Francisco  \n",
       "3     20  149.99     Los Angeles  \n",
       "4     11   11.99          Austin  "
      ]
     },
     "execution_count": 39,
     "metadata": {},
     "output_type": "execute_result"
    }
   ],
   "source": [
    "#to copy original Dataframe\n",
    "citydf=retaildf\n",
    "#To strip city name from address and add city column to citydf\n",
    "list_city = []\n",
    "for i in citydf['purhase_address']:\n",
    "    list_city.append(i.split(\",\")[1])\n",
    "citydf['city'] = list_city\n",
    "retaildf['city']=citydf['city']\n",
    "retaildf.head()\n"
   ]
  },
  {
   "cell_type": "code",
   "execution_count": 40,
   "metadata": {
    "colab": {
     "base_uri": "https://localhost:8080/",
     "height": 363
    },
    "id": "dK3djUVD34gw",
    "outputId": "3fe43d60-45ce-4d12-9137-b6c7a6dc9351"
   },
   "outputs": [
    {
     "data": {
      "text/html": [
       "<div>\n",
       "<style scoped>\n",
       "    .dataframe tbody tr th:only-of-type {\n",
       "        vertical-align: middle;\n",
       "    }\n",
       "\n",
       "    .dataframe tbody tr th {\n",
       "        vertical-align: top;\n",
       "    }\n",
       "\n",
       "    .dataframe thead th {\n",
       "        text-align: right;\n",
       "    }\n",
       "</style>\n",
       "<table border=\"1\" class=\"dataframe\">\n",
       "  <thead>\n",
       "    <tr style=\"text-align: right;\">\n",
       "      <th></th>\n",
       "      <th>sales</th>\n",
       "    </tr>\n",
       "    <tr>\n",
       "      <th>city</th>\n",
       "      <th></th>\n",
       "    </tr>\n",
       "  </thead>\n",
       "  <tbody>\n",
       "    <tr>\n",
       "      <th>San Francisco</th>\n",
       "      <td>8.254744e+06</td>\n",
       "    </tr>\n",
       "    <tr>\n",
       "      <th>Los Angeles</th>\n",
       "      <td>5.448304e+06</td>\n",
       "    </tr>\n",
       "    <tr>\n",
       "      <th>New York City</th>\n",
       "      <td>4.661867e+06</td>\n",
       "    </tr>\n",
       "    <tr>\n",
       "      <th>Boston</th>\n",
       "      <td>3.658628e+06</td>\n",
       "    </tr>\n",
       "    <tr>\n",
       "      <th>Atlanta</th>\n",
       "      <td>2.794199e+06</td>\n",
       "    </tr>\n",
       "    <tr>\n",
       "      <th>Dallas</th>\n",
       "      <td>2.765374e+06</td>\n",
       "    </tr>\n",
       "    <tr>\n",
       "      <th>Seattle</th>\n",
       "      <td>2.745046e+06</td>\n",
       "    </tr>\n",
       "    <tr>\n",
       "      <th>Portland</th>\n",
       "      <td>2.319332e+06</td>\n",
       "    </tr>\n",
       "    <tr>\n",
       "      <th>Austin</th>\n",
       "      <td>1.818044e+06</td>\n",
       "    </tr>\n",
       "  </tbody>\n",
       "</table>\n",
       "</div>"
      ],
      "text/plain": [
       "                       sales\n",
       "city                        \n",
       " San Francisco  8.254744e+06\n",
       " Los Angeles    5.448304e+06\n",
       " New York City  4.661867e+06\n",
       " Boston         3.658628e+06\n",
       " Atlanta        2.794199e+06\n",
       " Dallas         2.765374e+06\n",
       " Seattle        2.745046e+06\n",
       " Portland       2.319332e+06\n",
       " Austin         1.818044e+06"
      ]
     },
     "execution_count": 40,
     "metadata": {},
     "output_type": "execute_result"
    }
   ],
   "source": [
    "# grouping Citiwise sales and converted to frame with descending order by sales(Max sales)\n",
    "citydf=retaildf.groupby([\"city\"])['sales'].sum().sort_values(ascending=False)\n",
    "citydf=citydf.to_frame()\n",
    "citydf"
   ]
  },
  {
   "cell_type": "code",
   "execution_count": 41,
   "metadata": {
    "id": "04y4__vmW3n0"
   },
   "outputs": [],
   "source": [
    "city=[\"San Francisco\",\"Los Angeles\",\"New York City\",\"Boston\",\"Atlanta\",\"Dallas\",\"Seattle\",\"Portland\",\"Austin\"]\n",
    "citydf[\"city\"]=city"
   ]
  },
  {
   "cell_type": "code",
   "execution_count": null,
   "metadata": {
    "colab": {
     "base_uri": "https://localhost:8080/",
     "height": 567
    },
    "id": "y5CGMlCyUG1y",
    "outputId": "72b582f6-5707-465d-8e53-f5626380c578"
   },
   "outputs": [
    {
     "data": {
      "image/png": "[encoded data removed]",
      "text/plain": [
       "<Figure size 864x648 with 1 Axes>"
      ]
     },
     "metadata": {
      "needs_background": "light"
     },
     "output_type": "display_data"
    }
   ],
   "source": [
    "\n",
    "fig, ax = plt.subplots(figsize=(12, 9))\n",
    "sns.barplot(x = 'sales',\n",
    "            y = 'city',\n",
    "            data = citydf)\n",
    "plt.title(\"City wise Sales\")\n",
    "plt.show()"
   ]
  },
  {
   "cell_type": "markdown",
   "metadata": {
    "id": "p6innauUXYly"
   },
   "source": [
    "#Observations\n",
    "Among the all cities in dataset San Francisco has highest sales.Los Angeles,New York City are the immediate followers as per higher sales.The Austin has less sales as copmare to other Cities.\n"
   ]
  },
  {
   "cell_type": "markdown",
   "metadata": {
    "id": "re9g0MVfYDiY"
   },
   "source": [
    "# b.\tWhich Month had the highest amount of sales overall?"
   ]
  },
  {
   "cell_type": "code",
   "execution_count": 42,
   "metadata": {
    "colab": {
     "base_uri": "https://localhost:8080/",
     "height": 457
    },
    "id": "V8MfXE-EUnPq",
    "outputId": "f8566f82-3bdf-42db-9986-9563be37e968"
   },
   "outputs": [
    {
     "data": {
      "text/html": [
       "<div>\n",
       "<style scoped>\n",
       "    .dataframe tbody tr th:only-of-type {\n",
       "        vertical-align: middle;\n",
       "    }\n",
       "\n",
       "    .dataframe tbody tr th {\n",
       "        vertical-align: top;\n",
       "    }\n",
       "\n",
       "    .dataframe thead th {\n",
       "        text-align: right;\n",
       "    }\n",
       "</style>\n",
       "<table border=\"1\" class=\"dataframe\">\n",
       "  <thead>\n",
       "    <tr style=\"text-align: right;\">\n",
       "      <th></th>\n",
       "      <th>sales</th>\n",
       "    </tr>\n",
       "    <tr>\n",
       "      <th>month</th>\n",
       "      <th></th>\n",
       "    </tr>\n",
       "  </thead>\n",
       "  <tbody>\n",
       "    <tr>\n",
       "      <th>Dec</th>\n",
       "      <td>4.608296e+06</td>\n",
       "    </tr>\n",
       "    <tr>\n",
       "      <th>Oct</th>\n",
       "      <td>3.734778e+06</td>\n",
       "    </tr>\n",
       "    <tr>\n",
       "      <th>Apr</th>\n",
       "      <td>3.389218e+06</td>\n",
       "    </tr>\n",
       "    <tr>\n",
       "      <th>Nov</th>\n",
       "      <td>3.197875e+06</td>\n",
       "    </tr>\n",
       "    <tr>\n",
       "      <th>May</th>\n",
       "      <td>3.150616e+06</td>\n",
       "    </tr>\n",
       "    <tr>\n",
       "      <th>Mar</th>\n",
       "      <td>2.804973e+06</td>\n",
       "    </tr>\n",
       "    <tr>\n",
       "      <th>Jul</th>\n",
       "      <td>2.646461e+06</td>\n",
       "    </tr>\n",
       "    <tr>\n",
       "      <th>Jun</th>\n",
       "      <td>2.576280e+06</td>\n",
       "    </tr>\n",
       "    <tr>\n",
       "      <th>Aug</th>\n",
       "      <td>2.241083e+06</td>\n",
       "    </tr>\n",
       "    <tr>\n",
       "      <th>Feb</th>\n",
       "      <td>2.200078e+06</td>\n",
       "    </tr>\n",
       "    <tr>\n",
       "      <th>Sep</th>\n",
       "      <td>2.094466e+06</td>\n",
       "    </tr>\n",
       "    <tr>\n",
       "      <th>Jan</th>\n",
       "      <td>1.821413e+06</td>\n",
       "    </tr>\n",
       "  </tbody>\n",
       "</table>\n",
       "</div>"
      ],
      "text/plain": [
       "              sales\n",
       "month              \n",
       "Dec    4.608296e+06\n",
       "Oct    3.734778e+06\n",
       "Apr    3.389218e+06\n",
       "Nov    3.197875e+06\n",
       "May    3.150616e+06\n",
       "Mar    2.804973e+06\n",
       "Jul    2.646461e+06\n",
       "Jun    2.576280e+06\n",
       "Aug    2.241083e+06\n",
       "Feb    2.200078e+06\n",
       "Sep    2.094466e+06\n",
       "Jan    1.821413e+06"
      ]
     },
     "execution_count": 42,
     "metadata": {},
     "output_type": "execute_result"
    }
   ],
   "source": [
    "# grouping monthwise sales and converted to frame with descending order by sales(Max sales)\n",
    "monthdf=retaildf.groupby([\"month\"])['sales'].sum().sort_values(ascending=False)\n",
    "monthdf=monthdf.to_frame()\n",
    "monthdf"
   ]
  },
  {
   "cell_type": "code",
   "execution_count": 43,
   "metadata": {
    "id": "PllV1mAgYlLP"
   },
   "outputs": [],
   "source": [
    "month=[\"Dec\",\"Oct\",\"Apr\",\"Nov\",\"May\",\"Mar\",\"Jul\",\"Jun\",\"Aug\",\"Feb\",\"Sep\",\"Jan\"]\n",
    "monthdf[\"month\"]=month"
   ]
  },
  {
   "cell_type": "code",
   "execution_count": null,
   "metadata": {
    "colab": {
     "base_uri": "https://localhost:8080/",
     "height": 567
    },
    "id": "PTevPMzQZlu-",
    "outputId": "f22d40a3-d421-45ec-f8d9-e41d017e601c"
   },
   "outputs": [
    {
     "data": {
      "image/png": "[encoded data removed]",
      "text/plain": [
       "<Figure size 864x648 with 1 Axes>"
      ]
     },
     "metadata": {
      "needs_background": "light"
     },
     "output_type": "display_data"
    }
   ],
   "source": [
    "fig, ax = plt.subplots(figsize=(12, 9))\n",
    "sns.barplot(x = 'sales',\n",
    "            y = 'month',\n",
    "            data = monthdf)\n",
    "plt.title(\"Month wise Sales\")\n",
    "plt.show()"
   ]
  },
  {
   "cell_type": "markdown",
   "metadata": {
    "id": "vCuKqxRsZ7to"
   },
   "source": [
    "#Observations\n",
    "After analysing month wise sum of sales, the Dec has highest amount of sales.The Oct,April, Nov are nest higher followers for higher sales. The Jan has less sales as copmare to other months."
   ]
  },
  {
   "cell_type": "markdown",
   "metadata": {
    "id": "livPZtnAax2G"
   },
   "source": [
    "#c.\tMost bought products per city."
   ]
  },
  {
   "cell_type": "code",
   "execution_count": 44,
   "metadata": {
    "colab": {
     "base_uri": "https://localhost:8080/",
     "height": 394
    },
    "id": "53hXI3sfZwTc",
    "outputId": "84c8e58b-b2c3-462a-dfc3-a639e80b70bf"
   },
   "outputs": [
    {
     "data": {
      "text/html": [
       "<div>\n",
       "<style scoped>\n",
       "    .dataframe tbody tr th:only-of-type {\n",
       "        vertical-align: middle;\n",
       "    }\n",
       "\n",
       "    .dataframe tbody tr th {\n",
       "        vertical-align: top;\n",
       "    }\n",
       "\n",
       "    .dataframe thead th {\n",
       "        text-align: right;\n",
       "    }\n",
       "</style>\n",
       "<table border=\"1\" class=\"dataframe\">\n",
       "  <thead>\n",
       "    <tr style=\"text-align: right;\">\n",
       "      <th></th>\n",
       "      <th></th>\n",
       "      <th>quantity_ordered</th>\n",
       "    </tr>\n",
       "    <tr>\n",
       "      <th>city</th>\n",
       "      <th>product_name</th>\n",
       "      <th></th>\n",
       "    </tr>\n",
       "  </thead>\n",
       "  <tbody>\n",
       "    <tr>\n",
       "      <th rowspan=\"4\" valign=\"top\">San Francisco</th>\n",
       "      <th>AAA Batteries (4-pack)</th>\n",
       "      <td>7404</td>\n",
       "    </tr>\n",
       "    <tr>\n",
       "      <th>AA Batteries (4-pack)</th>\n",
       "      <td>6549</td>\n",
       "    </tr>\n",
       "    <tr>\n",
       "      <th>USB-C Charging Cable</th>\n",
       "      <td>5883</td>\n",
       "    </tr>\n",
       "    <tr>\n",
       "      <th>Lightning Charging Cable</th>\n",
       "      <td>5540</td>\n",
       "    </tr>\n",
       "    <tr>\n",
       "      <th>Los Angeles</th>\n",
       "      <th>AAA Batteries (4-pack)</th>\n",
       "      <td>4958</td>\n",
       "    </tr>\n",
       "    <tr>\n",
       "      <th>San Francisco</th>\n",
       "      <th>Wired Headphones</th>\n",
       "      <td>4956</td>\n",
       "    </tr>\n",
       "    <tr>\n",
       "      <th>Los Angeles</th>\n",
       "      <th>AA Batteries (4-pack)</th>\n",
       "      <td>4434</td>\n",
       "    </tr>\n",
       "    <tr>\n",
       "      <th>New York City</th>\n",
       "      <th>AAA Batteries (4-pack)</th>\n",
       "      <td>4119</td>\n",
       "    </tr>\n",
       "    <tr>\n",
       "      <th rowspan=\"2\" valign=\"top\">Los Angeles</th>\n",
       "      <th>USB-C Charging Cable</th>\n",
       "      <td>3776</td>\n",
       "    </tr>\n",
       "    <tr>\n",
       "      <th>Lightning Charging Cable</th>\n",
       "      <td>3765</td>\n",
       "    </tr>\n",
       "  </tbody>\n",
       "</table>\n",
       "</div>"
      ],
      "text/plain": [
       "                                         quantity_ordered\n",
       "city           product_name                              \n",
       " San Francisco AAA Batteries (4-pack)                7404\n",
       "               AA Batteries (4-pack)                 6549\n",
       "               USB-C Charging Cable                  5883\n",
       "               Lightning Charging Cable              5540\n",
       " Los Angeles   AAA Batteries (4-pack)                4958\n",
       " San Francisco Wired Headphones                      4956\n",
       " Los Angeles   AA Batteries (4-pack)                 4434\n",
       " New York City AAA Batteries (4-pack)                4119\n",
       " Los Angeles   USB-C Charging Cable                  3776\n",
       "               Lightning Charging Cable              3765"
      ]
     },
     "execution_count": 44,
     "metadata": {},
     "output_type": "execute_result"
    }
   ],
   "source": [
    "# grouping Citiwise product Name and quantity converted to frame with descending order by sales(Max sales)\n",
    "prodcitydf=retaildf.groupby([\"city\",\"product_name\"])['quantity_ordered'].sum().sort_values(ascending=False).head(10)\n",
    "prodcitydf=prodcitydf.to_frame()\n",
    "prodcitydf"
   ]
  },
  {
   "cell_type": "code",
   "execution_count": 51,
   "metadata": {
    "id": "R5-M0PIpb2oj"
   },
   "outputs": [],
   "source": [
    "city=[\"San Francisco\",\"Los Angeles\",\"San Francisco\",\"Los Angeles\",\"San Francisco\",\"Los Angeles\",\"New York City\",\"Los Angeles\",\"\",\"\"]\n",
    "prodcitydf[\"city\"]=city"
   ]
  },
  {
   "cell_type": "code",
   "execution_count": 52,
   "metadata": {
    "id": "y1UyrulGhkG3"
   },
   "outputs": [],
   "source": [
    "quantityordered=[7404,6549,5883,5540,4958,4956,4434,4119,3776,3765]\n",
    "prodcitydf[\"quantity_ordered\"]=quantityordered"
   ]
  },
  {
   "cell_type": "code",
   "execution_count": 53,
   "metadata": {
    "id": "kyHO4V4nHLAh"
   },
   "outputs": [],
   "source": [
    "product_name=['AAA Batteries (4-pack)','AA Batteries (4-pack)','USB-C Charging Cable','Lightning Charging Cable','AAA Batteries (4-pack)',\n",
    "              'Wired Headphones','AA Batteries (4-pack)','AAA Batteries (4-pack)','USB-C Charging Cable','Lightning Charging Cable']\n",
    "prodcitydf[\"product_name\"]=product_name"
   ]
  },
  {
   "cell_type": "code",
   "execution_count": 54,
   "metadata": {
    "colab": {
     "base_uri": "https://localhost:8080/",
     "height": 296
    },
    "id": "NM3mfEyEeRMg",
    "outputId": "0c709c24-e321-4160-bb43-804239545c29"
   },
   "outputs": [
    {
     "data": {
      "text/plain": [
       "Text(0.5, 0, 'city')"
      ]
     },
     "execution_count": 54,
     "metadata": {},
     "output_type": "execute_result"
    },
    {
     "data": {
      "image/png": "[encoded data removed]",
      "text/plain": [
       "<Figure size 432x288 with 1 Axes>"
      ]
     },
     "metadata": {
      "needs_background": "light"
     },
     "output_type": "display_data"
    }
   ],
   "source": [
    "#need to change\n",
    "plt.bar(prodcitydf['city'], prodcitydf['quantity_ordered'], align='center')\n",
    "\n",
    "\n",
    "#plt.xticks(prodcitydf['city'])\n",
    "plt.xlabel('city')\n",
    "\n",
    "\n"
   ]
  },
  {
   "cell_type": "markdown",
   "metadata": {
    "id": "YNu11rWZgshH"
   },
   "source": [
    "# Observations\n",
    "with the reference of above graph San Fransisco placed higher order of quantities.While seeing intrest of buyers form stated city and based on my analysis, I suggest a city **San Fransisco**  for establishing a new branch for the retail store."
   ]
  },
  {
   "cell_type": "markdown",
   "metadata": {
    "id": "2axgFrAyHLAi"
   },
   "source": [
    "# 5.\tFind out the distribution of sales over different times of the day (Morning, Afternoon, Evening, Night) and answer the following for each city:\n",
    "\n",
    "### a.\tWhat products are mostly sold at different times of the day?\n"
   ]
  },
  {
   "cell_type": "code",
   "execution_count": 55,
   "metadata": {
    "id": "W2fVABdTHLAi",
    "outputId": "2baa57d3-89b1-424e-d6a9-7774a18850aa"
   },
   "outputs": [
    {
     "data": {
      "text/plain": [
       "array([21, 14, 13, 20, 11, 12, 10, 18, 19, 17,  8,  9,  0, 22, 23, 16,  7,\n",
       "       15,  1,  2,  5,  6,  3,  4], dtype=int64)"
      ]
     },
     "execution_count": 55,
     "metadata": {},
     "output_type": "execute_result"
    }
   ],
   "source": [
    "retaildf['hours'].unique()"
   ]
  },
  {
   "cell_type": "code",
   "execution_count": 56,
   "metadata": {
    "id": "HH4n7rkDHLAi",
    "outputId": "6d1699bb-6e1e-4c86-b1da-99092c0b8437"
   },
   "outputs": [
    {
     "data": {
      "text/plain": [
       "['Night', 'Noon', 'Eve', 'Morning', 'Early Morning', 'Late Night']\n",
       "Categories (6, object): ['Late Night' < 'Early Morning' < 'Morning' < 'Noon' < 'Eve' < 'Night']"
      ]
     },
     "execution_count": 56,
     "metadata": {},
     "output_type": "execute_result"
    }
   ],
   "source": [
    "#on basis of time hours i binned timeslot \n",
    "\n",
    "b = [0,4,8,12,16,20,24]\n",
    "l = ['Late Night', 'Early Morning','Morning','Noon','Eve','Night']\n",
    "retaildf['timeslot'] = pd.cut(retaildf['hours'], bins=b, labels=l, include_lowest=True)\n",
    "retaildf['timeslot'].unique()"
   ]
  },
  {
   "cell_type": "code",
   "execution_count": 57,
   "metadata": {
    "id": "4dG-2GvjHLAi",
    "outputId": "10be3fde-f4ae-4d0e-f251-bcf6aba1890b"
   },
   "outputs": [
    {
     "data": {
      "text/html": [
       "<div>\n",
       "<style scoped>\n",
       "    .dataframe tbody tr th:only-of-type {\n",
       "        vertical-align: middle;\n",
       "    }\n",
       "\n",
       "    .dataframe tbody tr th {\n",
       "        vertical-align: top;\n",
       "    }\n",
       "\n",
       "    .dataframe thead th {\n",
       "        text-align: right;\n",
       "    }\n",
       "</style>\n",
       "<table border=\"1\" class=\"dataframe\">\n",
       "  <thead>\n",
       "    <tr style=\"text-align: right;\">\n",
       "      <th></th>\n",
       "      <th>order_id</th>\n",
       "      <th>product_name</th>\n",
       "      <th>quantity_ordered</th>\n",
       "      <th>unit_price</th>\n",
       "      <th>order_date</th>\n",
       "      <th>purhase_address</th>\n",
       "      <th>month</th>\n",
       "      <th>time</th>\n",
       "      <th>hours</th>\n",
       "      <th>sales</th>\n",
       "      <th>city</th>\n",
       "      <th>timeslot</th>\n",
       "    </tr>\n",
       "  </thead>\n",
       "  <tbody>\n",
       "    <tr>\n",
       "      <th>0</th>\n",
       "      <td>141234</td>\n",
       "      <td>iPhone</td>\n",
       "      <td>1</td>\n",
       "      <td>700.00</td>\n",
       "      <td>2019-01-22 21:25:00</td>\n",
       "      <td>944 Walnut St, Boston, MA 02215</td>\n",
       "      <td>Jan</td>\n",
       "      <td>21:25:00</td>\n",
       "      <td>21</td>\n",
       "      <td>700.00</td>\n",
       "      <td>Boston</td>\n",
       "      <td>Night</td>\n",
       "    </tr>\n",
       "    <tr>\n",
       "      <th>1</th>\n",
       "      <td>141235</td>\n",
       "      <td>Lightning Charging Cable</td>\n",
       "      <td>1</td>\n",
       "      <td>14.95</td>\n",
       "      <td>2019-01-28 14:15:00</td>\n",
       "      <td>185 Maple St, Portland, OR 97035</td>\n",
       "      <td>Jan</td>\n",
       "      <td>14:15:00</td>\n",
       "      <td>14</td>\n",
       "      <td>14.95</td>\n",
       "      <td>Portland</td>\n",
       "      <td>Noon</td>\n",
       "    </tr>\n",
       "    <tr>\n",
       "      <th>2</th>\n",
       "      <td>141236</td>\n",
       "      <td>Wired Headphones</td>\n",
       "      <td>2</td>\n",
       "      <td>11.99</td>\n",
       "      <td>2019-01-17 13:33:00</td>\n",
       "      <td>538 Adams St, San Francisco, CA 94016</td>\n",
       "      <td>Jan</td>\n",
       "      <td>13:33:00</td>\n",
       "      <td>13</td>\n",
       "      <td>23.98</td>\n",
       "      <td>San Francisco</td>\n",
       "      <td>Noon</td>\n",
       "    </tr>\n",
       "    <tr>\n",
       "      <th>3</th>\n",
       "      <td>141237</td>\n",
       "      <td>27in FHD Monitor</td>\n",
       "      <td>1</td>\n",
       "      <td>149.99</td>\n",
       "      <td>2019-01-05 20:33:00</td>\n",
       "      <td>738 10th St, Los Angeles, CA 90001</td>\n",
       "      <td>Jan</td>\n",
       "      <td>20:33:00</td>\n",
       "      <td>20</td>\n",
       "      <td>149.99</td>\n",
       "      <td>Los Angeles</td>\n",
       "      <td>Eve</td>\n",
       "    </tr>\n",
       "    <tr>\n",
       "      <th>4</th>\n",
       "      <td>141238</td>\n",
       "      <td>Wired Headphones</td>\n",
       "      <td>1</td>\n",
       "      <td>11.99</td>\n",
       "      <td>2019-01-25 11:59:00</td>\n",
       "      <td>387 10th St, Austin, TX 73301</td>\n",
       "      <td>Jan</td>\n",
       "      <td>11:59:00</td>\n",
       "      <td>11</td>\n",
       "      <td>11.99</td>\n",
       "      <td>Austin</td>\n",
       "      <td>Morning</td>\n",
       "    </tr>\n",
       "  </tbody>\n",
       "</table>\n",
       "</div>"
      ],
      "text/plain": [
       "  order_id              product_name  quantity_ordered  unit_price  \\\n",
       "0   141234                    iPhone                 1      700.00   \n",
       "1   141235  Lightning Charging Cable                 1       14.95   \n",
       "2   141236          Wired Headphones                 2       11.99   \n",
       "3   141237          27in FHD Monitor                 1      149.99   \n",
       "4   141238          Wired Headphones                 1       11.99   \n",
       "\n",
       "            order_date                        purhase_address month      time  \\\n",
       "0  2019-01-22 21:25:00        944 Walnut St, Boston, MA 02215   Jan  21:25:00   \n",
       "1  2019-01-28 14:15:00       185 Maple St, Portland, OR 97035   Jan  14:15:00   \n",
       "2  2019-01-17 13:33:00  538 Adams St, San Francisco, CA 94016   Jan  13:33:00   \n",
       "3  2019-01-05 20:33:00     738 10th St, Los Angeles, CA 90001   Jan  20:33:00   \n",
       "4  2019-01-25 11:59:00          387 10th St, Austin, TX 73301   Jan  11:59:00   \n",
       "\n",
       "   hours   sales            city timeslot  \n",
       "0     21  700.00          Boston    Night  \n",
       "1     14   14.95        Portland     Noon  \n",
       "2     13   23.98   San Francisco     Noon  \n",
       "3     20  149.99     Los Angeles      Eve  \n",
       "4     11   11.99          Austin  Morning  "
      ]
     },
     "execution_count": 57,
     "metadata": {},
     "output_type": "execute_result"
    }
   ],
   "source": [
    "retaildf.head()\n",
    "     "
   ]
  },
  {
   "cell_type": "code",
   "execution_count": 89,
   "metadata": {
    "id": "VktaXzvXHLAi",
    "outputId": "db774ce7-02d7-498a-a8f4-562dd5bb7fc9"
   },
   "outputs": [
    {
     "data": {
      "text/html": [
       "<div>\n",
       "<style scoped>\n",
       "    .dataframe tbody tr th:only-of-type {\n",
       "        vertical-align: middle;\n",
       "    }\n",
       "\n",
       "    .dataframe tbody tr th {\n",
       "        vertical-align: top;\n",
       "    }\n",
       "\n",
       "    .dataframe thead th {\n",
       "        text-align: right;\n",
       "    }\n",
       "</style>\n",
       "<table border=\"1\" class=\"dataframe\">\n",
       "  <thead>\n",
       "    <tr style=\"text-align: right;\">\n",
       "      <th></th>\n",
       "      <th></th>\n",
       "      <th></th>\n",
       "      <th>quantity_ordered</th>\n",
       "    </tr>\n",
       "    <tr>\n",
       "      <th>hours</th>\n",
       "      <th>timeslot</th>\n",
       "      <th>product_name</th>\n",
       "      <th></th>\n",
       "    </tr>\n",
       "  </thead>\n",
       "  <tbody>\n",
       "    <tr>\n",
       "      <th>19</th>\n",
       "      <th>Eve</th>\n",
       "      <th>AAA Batteries (4-pack)</th>\n",
       "      <td>2296</td>\n",
       "    </tr>\n",
       "    <tr>\n",
       "      <th>11</th>\n",
       "      <th>Morning</th>\n",
       "      <th>AAA Batteries (4-pack)</th>\n",
       "      <td>2126</td>\n",
       "    </tr>\n",
       "    <tr>\n",
       "      <th>13</th>\n",
       "      <th>Noon</th>\n",
       "      <th>AAA Batteries (4-pack)</th>\n",
       "      <td>2083</td>\n",
       "    </tr>\n",
       "    <tr>\n",
       "      <th>12</th>\n",
       "      <th>Morning</th>\n",
       "      <th>AAA Batteries (4-pack)</th>\n",
       "      <td>2040</td>\n",
       "    </tr>\n",
       "    <tr>\n",
       "      <th>18</th>\n",
       "      <th>Eve</th>\n",
       "      <th>AAA Batteries (4-pack)</th>\n",
       "      <td>2021</td>\n",
       "    </tr>\n",
       "    <tr>\n",
       "      <th rowspan=\"2\" valign=\"top\">20</th>\n",
       "      <th rowspan=\"2\" valign=\"top\">Eve</th>\n",
       "      <th>AAA Batteries (4-pack)</th>\n",
       "      <td>1997</td>\n",
       "    </tr>\n",
       "    <tr>\n",
       "      <th>AA Batteries (4-pack)</th>\n",
       "      <td>1950</td>\n",
       "    </tr>\n",
       "    <tr>\n",
       "      <th>12</th>\n",
       "      <th>Morning</th>\n",
       "      <th>AA Batteries (4-pack)</th>\n",
       "      <td>1914</td>\n",
       "    </tr>\n",
       "    <tr>\n",
       "      <th>13</th>\n",
       "      <th>Noon</th>\n",
       "      <th>AA Batteries (4-pack)</th>\n",
       "      <td>1854</td>\n",
       "    </tr>\n",
       "    <tr>\n",
       "      <th>18</th>\n",
       "      <th>Eve</th>\n",
       "      <th>AA Batteries (4-pack)</th>\n",
       "      <td>1852</td>\n",
       "    </tr>\n",
       "  </tbody>\n",
       "</table>\n",
       "</div>"
      ],
      "text/plain": [
       "                                       quantity_ordered\n",
       "hours timeslot product_name                            \n",
       "19    Eve      AAA Batteries (4-pack)              2296\n",
       "11    Morning  AAA Batteries (4-pack)              2126\n",
       "13    Noon     AAA Batteries (4-pack)              2083\n",
       "12    Morning  AAA Batteries (4-pack)              2040\n",
       "18    Eve      AAA Batteries (4-pack)              2021\n",
       "20    Eve      AAA Batteries (4-pack)              1997\n",
       "               AA Batteries (4-pack)               1950\n",
       "12    Morning  AA Batteries (4-pack)               1914\n",
       "13    Noon     AA Batteries (4-pack)               1854\n",
       "18    Eve      AA Batteries (4-pack)               1852"
      ]
     },
     "execution_count": 89,
     "metadata": {},
     "output_type": "execute_result"
    }
   ],
   "source": [
    "timeslot=retaildf.groupby(['hours','timeslot','product_name'])['quantity_ordered'].sum().sort_values(ascending=False).head(10)\n",
    "timeslot=timeslot.to_frame()\n",
    "timeslot"
   ]
  },
  {
   "cell_type": "code",
   "execution_count": 95,
   "metadata": {},
   "outputs": [],
   "source": [
    "product=['AAA Batteries (4-pack)','AAA Batteries (4-pack)','AAA Batteries (4-pack)','AAA Batteries (4-pack)','AAA Batteries (4-pack)','AAA Batteries (4-pack)','AA Batteries (4-pack)','AA Batteries (4-pack)','AA Batteries (4-pack)','AA Batteries (4-pack)']\n",
    "timeslot['product_name']=product\n",
    "h1=[19,11,13,12,18,20,12,13,18,18]\n",
    "timeslot['hours']=h1"
   ]
  },
  {
   "cell_type": "code",
   "execution_count": 94,
   "metadata": {},
   "outputs": [
    {
     "data": {
      "image/png": "[encoded data removed]",
      "text/plain": [
       "<Figure size 432x288 with 1 Axes>"
      ]
     },
     "metadata": {
      "needs_background": "light"
     },
     "output_type": "display_data"
    }
   ],
   "source": [
    "timeslot.plot(x=\"quantity_ordered\", y=\"hours\", kind=\"scatter\")\n",
    "plt.show()\n",
    "plt.title(\"\")"
   ]
  },
  {
   "cell_type": "code",
   "execution_count": 112,
   "metadata": {},
   "outputs": [
    {
     "data": {
      "text/plain": [
       "Text(0.5, 1.0, 'products sold at different time hours of the day')"
      ]
     },
     "execution_count": 112,
     "metadata": {},
     "output_type": "execute_result"
    },
    {
     "data": {
      "image/png": "[encoded data removed]",
      "text/plain": [
       "<Figure size 453.625x360 with 1 Axes>"
      ]
     },
     "metadata": {
      "needs_background": "light"
     },
     "output_type": "display_data"
    }
   ],
   "source": [
    "# Creation of Data\n",
    "x1 =timeslot['product_name']\n",
    "\n",
    "y1 = timeslot['hours']\n",
    "y2 = timeslot['quantity_ordered']\n",
    "  \n",
    "\n",
    "sns.relplot(x=x1, y=y1, hue=y2,color='red', size=y2,data=timeslot)\n",
    "plt.title(\"products sold at different time hours of the day\")"
   ]
  },
  {
   "cell_type": "markdown",
   "metadata": {},
   "source": [
    "# Observations\n"
   ]
  },
  {
   "cell_type": "markdown",
   "metadata": {
    "id": "lyh4oK49HLAj"
   },
   "source": [
    "# b.\tWhich time of day has the most sales?"
   ]
  },
  {
   "cell_type": "code",
   "execution_count": 59,
   "metadata": {
    "id": "9ghWmJrwHLAj",
    "outputId": "32c33871-a642-4117-8174-75569328457b"
   },
   "outputs": [
    {
     "data": {
      "text/html": [
       "<div>\n",
       "<style scoped>\n",
       "    .dataframe tbody tr th:only-of-type {\n",
       "        vertical-align: middle;\n",
       "    }\n",
       "\n",
       "    .dataframe tbody tr th {\n",
       "        vertical-align: top;\n",
       "    }\n",
       "\n",
       "    .dataframe thead th {\n",
       "        text-align: right;\n",
       "    }\n",
       "</style>\n",
       "<table border=\"1\" class=\"dataframe\">\n",
       "  <thead>\n",
       "    <tr style=\"text-align: right;\">\n",
       "      <th></th>\n",
       "      <th>sales</th>\n",
       "    </tr>\n",
       "    <tr>\n",
       "      <th>timeslot</th>\n",
       "      <th></th>\n",
       "    </tr>\n",
       "  </thead>\n",
       "  <tbody>\n",
       "    <tr>\n",
       "      <th>Eve</th>\n",
       "      <td>9.037683e+06</td>\n",
       "    </tr>\n",
       "    <tr>\n",
       "      <th>Morning</th>\n",
       "      <td>8.192752e+06</td>\n",
       "    </tr>\n",
       "    <tr>\n",
       "      <th>Noon</th>\n",
       "      <td>8.078030e+06</td>\n",
       "    </tr>\n",
       "    <tr>\n",
       "      <th>Night</th>\n",
       "      <td>4.824827e+06</td>\n",
       "    </tr>\n",
       "    <tr>\n",
       "      <th>Early Morning</th>\n",
       "      <td>2.615004e+06</td>\n",
       "    </tr>\n",
       "  </tbody>\n",
       "</table>\n",
       "</div>"
      ],
      "text/plain": [
       "                      sales\n",
       "timeslot                   \n",
       "Eve            9.037683e+06\n",
       "Morning        8.192752e+06\n",
       "Noon           8.078030e+06\n",
       "Night          4.824827e+06\n",
       "Early Morning  2.615004e+06"
      ]
     },
     "execution_count": 59,
     "metadata": {},
     "output_type": "execute_result"
    }
   ],
   "source": [
    "timeslot=retaildf.groupby(['timeslot'])['sales'].sum().sort_values(ascending=False).head()\n",
    "timeslot=timeslot.to_frame()\n",
    "timeslot"
   ]
  },
  {
   "cell_type": "code",
   "execution_count": 66,
   "metadata": {},
   "outputs": [],
   "source": [
    "timeslot1=[\"Eve\",\"Morning\",\"Noon\",\"Night\",\"Early Morning\"]\n",
    "timeslot[\"ts\"]=timeslot1"
   ]
  },
  {
   "cell_type": "code",
   "execution_count": 67,
   "metadata": {},
   "outputs": [
    {
     "data": {
      "image/png": "[encoded data removed]",
      "text/plain": [
       "<Figure size 864x648 with 1 Axes>"
      ]
     },
     "metadata": {
      "needs_background": "light"
     },
     "output_type": "display_data"
    }
   ],
   "source": [
    "fig, ax = plt.subplots(figsize=(12, 9))\n",
    "sns.barplot(x = 'sales',\n",
    "            y = 'ts',\n",
    "            data = timeslot)\n",
    "plt.title(\"Time slotwise Sales\")\n",
    "plt.show()"
   ]
  },
  {
   "cell_type": "markdown",
   "metadata": {
    "id": "Kg4R0QLvHLAj"
   },
   "source": [
    "### Based on  analysis, i suggested the best working hours are evening hours and the best products for the retail stores in each city are Macbook Pro Laptop and iphone."
   ]
  },
  {
   "cell_type": "markdown",
   "metadata": {
    "id": "a6RpevOnHLAj"
   },
   "source": [
    "### 6.\tFind out the pair of products that are most sold together. For example, generally, we would expect a person who buys an iPhone 11 to also buy the Apple Airpods together with it. Identify such pairs of products and suggest what promotional offers should the retail company come up with based on your outcome."
   ]
  },
  {
   "cell_type": "code",
   "execution_count": null,
   "metadata": {
    "id": "pQL0H9FmHLAk"
   },
   "outputs": [],
   "source": [
    "prodgroup=retaildf[retaildf['order_id'].duplicated(keep=False)]#To seprate duplicated order id"
   ]
  },
  {
   "cell_type": "code",
   "execution_count": 60,
   "metadata": {
    "id": "TZh2I2wWHLAk",
    "outputId": "3e010028-f271-4966-ae56-abf07130202b"
   },
   "outputs": [
    {
     "name": "stderr",
     "output_type": "stream",
     "text": [
      "<ipython-input-60-f2a69e927fa1>:4: SettingWithCopyWarning: \n",
      "A value is trying to be set on a copy of a slice from a DataFrame.\n",
      "Try using .loc[row_indexer,col_indexer] = value instead\n",
      "\n",
      "See the caveats in the documentation: https://pandas.pydata.org/pandas-docs/stable/user_guide/indexing.html#returning-a-view-versus-a-copy\n",
      "  prodgroup['prod_group']=prodgroup.groupby('order_id')['product_name'].transform(lambda x:','.join(x))\n"
     ]
    },
    {
     "data": {
      "text/html": [
       "<div>\n",
       "<style scoped>\n",
       "    .dataframe tbody tr th:only-of-type {\n",
       "        vertical-align: middle;\n",
       "    }\n",
       "\n",
       "    .dataframe tbody tr th {\n",
       "        vertical-align: top;\n",
       "    }\n",
       "\n",
       "    .dataframe thead th {\n",
       "        text-align: right;\n",
       "    }\n",
       "</style>\n",
       "<table border=\"1\" class=\"dataframe\">\n",
       "  <thead>\n",
       "    <tr style=\"text-align: right;\">\n",
       "      <th></th>\n",
       "      <th>order_id</th>\n",
       "      <th>prod_group</th>\n",
       "    </tr>\n",
       "  </thead>\n",
       "  <tbody>\n",
       "    <tr>\n",
       "      <th>41</th>\n",
       "      <td>141275</td>\n",
       "      <td>USB-C Charging Cable,Wired Headphones</td>\n",
       "    </tr>\n",
       "    <tr>\n",
       "      <th>57</th>\n",
       "      <td>141290</td>\n",
       "      <td>Apple Airpods Headphones,AA Batteries (4-pack)</td>\n",
       "    </tr>\n",
       "    <tr>\n",
       "      <th>133</th>\n",
       "      <td>141365</td>\n",
       "      <td>Vareebadd Phone,Wired Headphones</td>\n",
       "    </tr>\n",
       "    <tr>\n",
       "      <th>153</th>\n",
       "      <td>141384</td>\n",
       "      <td>Google Phone,USB-C Charging Cable</td>\n",
       "    </tr>\n",
       "    <tr>\n",
       "      <th>220</th>\n",
       "      <td>141450</td>\n",
       "      <td>Google Phone,Bose SoundSport Headphones</td>\n",
       "    </tr>\n",
       "  </tbody>\n",
       "</table>\n",
       "</div>"
      ],
      "text/plain": [
       "    order_id                                      prod_group\n",
       "41    141275           USB-C Charging Cable,Wired Headphones\n",
       "57    141290  Apple Airpods Headphones,AA Batteries (4-pack)\n",
       "133   141365                Vareebadd Phone,Wired Headphones\n",
       "153   141384               Google Phone,USB-C Charging Cable\n",
       "220   141450         Google Phone,Bose SoundSport Headphones"
      ]
     },
     "execution_count": 60,
     "metadata": {},
     "output_type": "execute_result"
    }
   ],
   "source": [
    "#To create a group of sold products together i used orderid feature from dataset\n",
    "prodgroup=retaildf[retaildf['order_id'].duplicated(keep=False)]#To seprate duplicated order id\n",
    "#merging products with same order id\n",
    "prodgroup['prod_group']=prodgroup.groupby('order_id')['product_name'].transform(lambda x:','.join(x))\n",
    "#droping duplicate values \n",
    "prodgroup=prodgroup[['order_id','prod_group']].drop_duplicates()\n",
    "prodgroup.head()"
   ]
  },
  {
   "cell_type": "code",
   "execution_count": 61,
   "metadata": {
    "id": "5XFhm5E2HLAk",
    "outputId": "fd9565d3-69ab-4bdb-e95f-da9c105b7827"
   },
   "outputs": [
    {
     "data": {
      "text/plain": [
       "Index(['order_id', 'product_name', 'quantity_ordered', 'unit_price',\n",
       "       'order_date', 'purhase_address', 'month', 'time', 'hours', 'sales',\n",
       "       'city', 'timeslot'],\n",
       "      dtype='object')"
      ]
     },
     "execution_count": 61,
     "metadata": {},
     "output_type": "execute_result"
    }
   ],
   "source": [
    "retaildf.columns"
   ]
  },
  {
   "cell_type": "code",
   "execution_count": 62,
   "metadata": {
    "id": "X5WBEs7UHLAk",
    "outputId": "f7973688-8ba1-4683-f165-b4425073f8fa"
   },
   "outputs": [
    {
     "data": {
      "text/plain": [
       "[(('iPhone', 'Lightning Charging Cable'), 1002),\n",
       " (('Google Phone', 'USB-C Charging Cable'), 985),\n",
       " (('iPhone', 'Wired Headphones'), 447),\n",
       " (('Google Phone', 'Wired Headphones'), 413),\n",
       " (('Vareebadd Phone', 'USB-C Charging Cable'), 361),\n",
       " (('iPhone', 'Apple Airpods Headphones'), 360),\n",
       " (('Google Phone', 'Bose SoundSport Headphones'), 220),\n",
       " (('USB-C Charging Cable', 'Wired Headphones'), 159),\n",
       " (('Vareebadd Phone', 'Wired Headphones'), 143),\n",
       " (('Lightning Charging Cable', 'Wired Headphones'), 92)]"
      ]
     },
     "execution_count": 62,
     "metadata": {},
     "output_type": "execute_result"
    }
   ],
   "source": [
    "from itertools import combinations\n",
    "from collections import Counter\n",
    "count=Counter()\n",
    "for row in prodgroup['prod_group']:\n",
    "    row_list=row.split(',')\n",
    "    count.update(Counter(combinations(row_list,2)))#Counting all 2 products group\n",
    "count.most_common(10)"
   ]
  },
  {
   "cell_type": "markdown",
   "metadata": {
    "id": "3_RmqChlHLAl"
   },
   "source": [
    "## In above results we can clearly see that the most often products sold together are iPhone and Lightning Charging Cable with 1002 order transactions."
   ]
  },
  {
   "cell_type": "code",
   "execution_count": 63,
   "metadata": {
    "id": "I0_b0DkPHLAl",
    "outputId": "108cb5ef-de74-4e11-ce4a-fdaaed8e393b"
   },
   "outputs": [
    {
     "data": {
      "text/plain": [
       "[(('Google Phone', 'USB-C Charging Cable', 'Wired Headphones'), 86),\n",
       " (('iPhone', 'Lightning Charging Cable', 'Wired Headphones'), 62),\n",
       " (('iPhone', 'Lightning Charging Cable', 'Apple Airpods Headphones'), 47),\n",
       " (('Google Phone', 'USB-C Charging Cable', 'Bose SoundSport Headphones'), 35),\n",
       " (('Vareebadd Phone', 'USB-C Charging Cable', 'Wired Headphones'), 33),\n",
       " (('iPhone', 'Apple Airpods Headphones', 'Wired Headphones'), 27),\n",
       " (('Google Phone', 'Bose SoundSport Headphones', 'Wired Headphones'), 24),\n",
       " (('Vareebadd Phone', 'USB-C Charging Cable', 'Bose SoundSport Headphones'),\n",
       "  16),\n",
       " (('Vareebadd Phone', 'Bose SoundSport Headphones', 'Wired Headphones'), 5),\n",
       " (('USB-C Charging Cable', 'Bose SoundSport Headphones', 'Wired Headphones'),\n",
       "  5)]"
      ]
     },
     "execution_count": 63,
     "metadata": {},
     "output_type": "execute_result"
    }
   ],
   "source": [
    "from itertools import combinations\n",
    "from collections import Counter\n",
    "count=Counter()\n",
    "for row in prodgroup['prod_group']:\n",
    "    row_list=row.split(',')\n",
    "    count.update(Counter(combinations(row_list,3)))#Counting all 2 products group\n",
    "count.most_common(10)"
   ]
  },
  {
   "cell_type": "markdown",
   "metadata": {
    "id": "_hAG9bHPHLAm"
   },
   "source": [
    "##  In above results We can see the most often sold products (3 products) together are Google Phone, USB-C Charging Cable, and Wired Headphones with 86 transactions."
   ]
  }
 ],
 "metadata": {
  "colab": {
   "collapsed_sections": [],
   "name": "Jaypalsing Rajput_Retail_Analysis_Final.ipynb",
   "provenance": []
  },
  "kernelspec": {
   "display_name": "Python 3",
   "language": "python",
   "name": "python3"
  },
  "language_info": {
   "codemirror_mode": {
    "name": "ipython",
    "version": 3
   },
   "file_extension": ".py",
   "mimetype": "text/x-python",
   "name": "python",
   "nbconvert_exporter": "python",
   "pygments_lexer": "ipython3",
   "version": "3.8.8"
  }
 },
 "nbformat": 4,
 "nbformat_minor": 1
}
